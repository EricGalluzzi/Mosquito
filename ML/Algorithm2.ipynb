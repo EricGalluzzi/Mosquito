{
 "cells": [
  {
   "cell_type": "code",
   "execution_count": 1,
   "id": "41431ba8-2af2-4634-a58b-1d0e709d37f5",
   "metadata": {},
   "outputs": [
    {
     "name": "stdout",
     "output_type": "stream",
     "text": [
      "Requirement already satisfied: sklearn in /usr/local/Cellar/jupyterlab/3.2.9/libexec/lib/python3.9/site-packages (0.0)\n",
      "Requirement already satisfied: tensorflow in /usr/local/Cellar/jupyterlab/3.2.9/libexec/lib/python3.9/site-packages (2.8.0)\n",
      "Requirement already satisfied: matplotlib in /usr/local/Cellar/jupyterlab/3.2.9/libexec/lib/python3.9/site-packages (3.5.1)\n",
      "Requirement already satisfied: numpy in /usr/local/Cellar/jupyterlab/3.2.9/libexec/lib/python3.9/site-packages (1.22.2)\n",
      "Requirement already satisfied: scikit-learn in /usr/local/Cellar/jupyterlab/3.2.9/libexec/lib/python3.9/site-packages (from sklearn) (1.0.2)\n",
      "Requirement already satisfied: grpcio<2.0,>=1.24.3 in /usr/local/Cellar/jupyterlab/3.2.9/libexec/lib/python3.9/site-packages (from tensorflow) (1.44.0)\n",
      "Requirement already satisfied: wrapt>=1.11.0 in /Users/ericg/Library/Python/3.9/lib/python/site-packages (from tensorflow) (1.12.1)\n",
      "Requirement already satisfied: absl-py>=0.4.0 in /usr/local/Cellar/jupyterlab/3.2.9/libexec/lib/python3.9/site-packages (from tensorflow) (1.0.0)\n",
      "Requirement already satisfied: opt-einsum>=2.3.2 in /usr/local/Cellar/jupyterlab/3.2.9/libexec/lib/python3.9/site-packages (from tensorflow) (3.3.0)\n",
      "Requirement already satisfied: astunparse>=1.6.0 in /usr/local/Cellar/jupyterlab/3.2.9/libexec/lib/python3.9/site-packages (from tensorflow) (1.6.3)\n",
      "Requirement already satisfied: tensorflow-io-gcs-filesystem>=0.23.1 in /usr/local/Cellar/jupyterlab/3.2.9/libexec/lib/python3.9/site-packages (from tensorflow) (0.24.0)\n",
      "Requirement already satisfied: keras-preprocessing>=1.1.1 in /usr/local/Cellar/jupyterlab/3.2.9/libexec/lib/python3.9/site-packages (from tensorflow) (1.1.2)\n",
      "Requirement already satisfied: keras<2.9,>=2.8.0rc0 in /usr/local/Cellar/jupyterlab/3.2.9/libexec/lib/python3.9/site-packages (from tensorflow) (2.8.0)\n",
      "Requirement already satisfied: six>=1.12.0 in /usr/local/Cellar/six/1.16.0_2/lib/python3.9/site-packages (from tensorflow) (1.16.0)\n",
      "Requirement already satisfied: libclang>=9.0.1 in /usr/local/Cellar/jupyterlab/3.2.9/libexec/lib/python3.9/site-packages (from tensorflow) (13.0.0)\n",
      "Requirement already satisfied: gast>=0.2.1 in /usr/local/Cellar/jupyterlab/3.2.9/libexec/lib/python3.9/site-packages (from tensorflow) (0.5.3)\n",
      "Requirement already satisfied: typing-extensions>=3.6.6 in /usr/local/Cellar/jupyterlab/3.2.9/libexec/lib/python3.9/site-packages (from tensorflow) (4.1.1)\n",
      "Requirement already satisfied: google-pasta>=0.1.1 in /usr/local/Cellar/jupyterlab/3.2.9/libexec/lib/python3.9/site-packages (from tensorflow) (0.2.0)\n",
      "Requirement already satisfied: protobuf>=3.9.2 in /usr/local/Cellar/jupyterlab/3.2.9/libexec/lib/python3.9/site-packages (from tensorflow) (3.19.4)\n",
      "Requirement already satisfied: flatbuffers>=1.12 in /usr/local/Cellar/jupyterlab/3.2.9/libexec/lib/python3.9/site-packages (from tensorflow) (2.0)\n",
      "Requirement already satisfied: h5py>=2.9.0 in /usr/local/Cellar/jupyterlab/3.2.9/libexec/lib/python3.9/site-packages (from tensorflow) (3.6.0)\n",
      "Requirement already satisfied: termcolor>=1.1.0 in /usr/local/Cellar/jupyterlab/3.2.9/libexec/lib/python3.9/site-packages (from tensorflow) (1.1.0)\n",
      "Requirement already satisfied: tf-estimator-nightly==2.8.0.dev2021122109 in /usr/local/Cellar/jupyterlab/3.2.9/libexec/lib/python3.9/site-packages (from tensorflow) (2.8.0.dev2021122109)\n",
      "Requirement already satisfied: setuptools in /usr/local/Cellar/jupyterlab/3.2.9/libexec/lib/python3.9/site-packages (from tensorflow) (60.5.0)\n",
      "Requirement already satisfied: tensorboard<2.9,>=2.8 in /usr/local/Cellar/jupyterlab/3.2.9/libexec/lib/python3.9/site-packages (from tensorflow) (2.8.0)\n",
      "Requirement already satisfied: pillow>=6.2.0 in /usr/local/Cellar/jupyterlab/3.2.9/libexec/lib/python3.9/site-packages (from matplotlib) (9.0.1)\n",
      "Requirement already satisfied: python-dateutil>=2.7 in /usr/local/Cellar/jupyterlab/3.2.9/libexec/lib/python3.9/site-packages (from matplotlib) (2.8.2)\n",
      "Requirement already satisfied: packaging>=20.0 in /usr/local/Cellar/jupyterlab/3.2.9/libexec/lib/python3.9/site-packages (from matplotlib) (21.3)\n",
      "Requirement already satisfied: fonttools>=4.22.0 in /usr/local/Cellar/jupyterlab/3.2.9/libexec/lib/python3.9/site-packages (from matplotlib) (4.29.1)\n",
      "Requirement already satisfied: pyparsing>=2.2.1 in /usr/local/Cellar/jupyterlab/3.2.9/libexec/lib/python3.9/site-packages (from matplotlib) (3.0.7)\n",
      "Requirement already satisfied: kiwisolver>=1.0.1 in /usr/local/Cellar/jupyterlab/3.2.9/libexec/lib/python3.9/site-packages (from matplotlib) (1.3.2)\n",
      "Requirement already satisfied: cycler>=0.10 in /usr/local/Cellar/jupyterlab/3.2.9/libexec/lib/python3.9/site-packages (from matplotlib) (0.11.0)\n",
      "Requirement already satisfied: wheel<1.0,>=0.23.0 in /usr/local/lib/python3.9/site-packages (from astunparse>=1.6.0->tensorflow) (0.37.1)\n",
      "Requirement already satisfied: google-auth<3,>=1.6.3 in /usr/local/Cellar/jupyterlab/3.2.9/libexec/lib/python3.9/site-packages (from tensorboard<2.9,>=2.8->tensorflow) (2.6.0)\n",
      "Requirement already satisfied: google-auth-oauthlib<0.5,>=0.4.1 in /usr/local/Cellar/jupyterlab/3.2.9/libexec/lib/python3.9/site-packages (from tensorboard<2.9,>=2.8->tensorflow) (0.4.6)\n",
      "Requirement already satisfied: tensorboard-plugin-wit>=1.6.0 in /usr/local/Cellar/jupyterlab/3.2.9/libexec/lib/python3.9/site-packages (from tensorboard<2.9,>=2.8->tensorflow) (1.8.1)\n",
      "Requirement already satisfied: werkzeug>=0.11.15 in /usr/local/Cellar/jupyterlab/3.2.9/libexec/lib/python3.9/site-packages (from tensorboard<2.9,>=2.8->tensorflow) (2.0.3)\n",
      "Requirement already satisfied: tensorboard-data-server<0.7.0,>=0.6.0 in /usr/local/Cellar/jupyterlab/3.2.9/libexec/lib/python3.9/site-packages (from tensorboard<2.9,>=2.8->tensorflow) (0.6.1)\n",
      "Requirement already satisfied: markdown>=2.6.8 in /usr/local/Cellar/jupyterlab/3.2.9/libexec/lib/python3.9/site-packages (from tensorboard<2.9,>=2.8->tensorflow) (3.3.6)\n",
      "Requirement already satisfied: requests<3,>=2.21.0 in /usr/local/Cellar/jupyterlab/3.2.9/libexec/lib/python3.9/site-packages (from tensorboard<2.9,>=2.8->tensorflow) (2.27.1)\n",
      "Requirement already satisfied: scipy>=1.1.0 in /usr/local/Cellar/jupyterlab/3.2.9/libexec/lib/python3.9/site-packages (from scikit-learn->sklearn) (1.8.0)\n",
      "Requirement already satisfied: threadpoolctl>=2.0.0 in /usr/local/Cellar/jupyterlab/3.2.9/libexec/lib/python3.9/site-packages (from scikit-learn->sklearn) (3.1.0)\n",
      "Requirement already satisfied: joblib>=0.11 in /usr/local/Cellar/jupyterlab/3.2.9/libexec/lib/python3.9/site-packages (from scikit-learn->sklearn) (1.1.0)\n",
      "Requirement already satisfied: cachetools<6.0,>=2.0.0 in /usr/local/Cellar/jupyterlab/3.2.9/libexec/lib/python3.9/site-packages (from google-auth<3,>=1.6.3->tensorboard<2.9,>=2.8->tensorflow) (5.0.0)\n",
      "Requirement already satisfied: pyasn1-modules>=0.2.1 in /usr/local/Cellar/jupyterlab/3.2.9/libexec/lib/python3.9/site-packages (from google-auth<3,>=1.6.3->tensorboard<2.9,>=2.8->tensorflow) (0.2.8)\n",
      "Requirement already satisfied: rsa<5,>=3.1.4 in /usr/local/Cellar/jupyterlab/3.2.9/libexec/lib/python3.9/site-packages (from google-auth<3,>=1.6.3->tensorboard<2.9,>=2.8->tensorflow) (4.8)\n",
      "Requirement already satisfied: requests-oauthlib>=0.7.0 in /usr/local/Cellar/jupyterlab/3.2.9/libexec/lib/python3.9/site-packages (from google-auth-oauthlib<0.5,>=0.4.1->tensorboard<2.9,>=2.8->tensorflow) (1.3.1)\n",
      "Requirement already satisfied: importlib-metadata>=4.4 in /usr/local/Cellar/jupyterlab/3.2.9/libexec/lib/python3.9/site-packages (from markdown>=2.6.8->tensorboard<2.9,>=2.8->tensorflow) (4.11.1)\n",
      "Requirement already satisfied: urllib3<1.27,>=1.21.1 in /usr/local/Cellar/jupyterlab/3.2.9/libexec/lib/python3.9/site-packages (from requests<3,>=2.21.0->tensorboard<2.9,>=2.8->tensorflow) (1.26.8)\n",
      "Requirement already satisfied: certifi>=2017.4.17 in /usr/local/Cellar/jupyterlab/3.2.9/libexec/lib/python3.9/site-packages (from requests<3,>=2.21.0->tensorboard<2.9,>=2.8->tensorflow) (2021.10.8)\n",
      "Requirement already satisfied: charset_normalizer~=2.0.0 in /usr/local/Cellar/jupyterlab/3.2.9/libexec/lib/python3.9/site-packages (from requests<3,>=2.21.0->tensorboard<2.9,>=2.8->tensorflow) (2.0.11)\n",
      "Requirement already satisfied: idna<4,>=2.5 in /usr/local/Cellar/jupyterlab/3.2.9/libexec/lib/python3.9/site-packages (from requests<3,>=2.21.0->tensorboard<2.9,>=2.8->tensorflow) (3.3)\n",
      "Requirement already satisfied: zipp>=0.5 in /usr/local/Cellar/jupyterlab/3.2.9/libexec/lib/python3.9/site-packages (from importlib-metadata>=4.4->markdown>=2.6.8->tensorboard<2.9,>=2.8->tensorflow) (3.7.0)\n",
      "Requirement already satisfied: pyasn1<0.5.0,>=0.4.6 in /usr/local/Cellar/jupyterlab/3.2.9/libexec/lib/python3.9/site-packages (from pyasn1-modules>=0.2.1->google-auth<3,>=1.6.3->tensorboard<2.9,>=2.8->tensorflow) (0.4.8)\n",
      "Requirement already satisfied: oauthlib>=3.0.0 in /usr/local/Cellar/jupyterlab/3.2.9/libexec/lib/python3.9/site-packages (from requests-oauthlib>=0.7.0->google-auth-oauthlib<0.5,>=0.4.1->tensorboard<2.9,>=2.8->tensorflow) (3.2.0)\n",
      "\u001b[33mWARNING: You are using pip version 21.3.1; however, version 22.0.3 is available.\n",
      "You should consider upgrading via the '/usr/local/Cellar/jupyterlab/3.2.9/libexec/bin/python3.9 -m pip install --upgrade pip' command.\u001b[0m\n",
      "Note: you may need to restart the kernel to use updated packages.\n"
     ]
    }
   ],
   "source": [
    "pip install sklearn tensorflow matplotlib numpy"
   ]
  },
  {
   "cell_type": "code",
   "execution_count": 342,
   "id": "74926fcb-4583-4dc5-89dd-9a9048ed6b8e",
   "metadata": {},
   "outputs": [],
   "source": [
    "import pandas as pd\n",
    "from sklearn.model_selection import train_test_split\n",
    "from sklearn.preprocessing import MinMaxScaler\n",
    "from sklearn.preprocessing import RobustScaler\n",
    "from sklearn import preprocessing\n",
    "import tensorflow as tf\n",
    "from tensorflow.keras.models import Sequential\n",
    "from tensorflow.keras.layers import LSTM\n",
    "from tensorflow.keras.layers import Dense\n",
    "import matplotlib.pyplot as plt\n",
    "import numpy as np"
   ]
  },
  {
   "cell_type": "code",
   "execution_count": 363,
   "id": "b22a8458-8ab3-48a6-96ae-4baf4e038ce0",
   "metadata": {},
   "outputs": [],
   "source": [
    "enc = preprocessing.LabelEncoder()\n",
    "df = pd.read_csv('newCombined.csv')\n",
    "dg = pd.read_csv('wData.csv')\n",
    "dFF = dg['DATE']\n",
    "scaler = MinMaxScaler()"
   ]
  },
  {
   "cell_type": "code",
   "execution_count": 364,
   "id": "03d1ecd4-a686-401e-9b75-b718f8501ad2",
   "metadata": {},
   "outputs": [
    {
     "name": "stdout",
     "output_type": "stream",
     "text": [
      "0     3\n",
      "1     1\n",
      "2     3\n",
      "3     3\n",
      "4     3\n",
      "5     1\n",
      "6     1\n",
      "7     1\n",
      "8     3\n",
      "9     1\n",
      "10    3\n",
      "11    1\n",
      "12    1\n",
      "13    1\n",
      "14    1\n",
      "15    1\n",
      "16    1\n",
      "17    0\n",
      "18    1\n",
      "19    3\n",
      "20    3\n",
      "21    1\n",
      "22    2\n",
      "23    2\n",
      "24    2\n",
      "25    3\n",
      "26    1\n",
      "27    3\n",
      "28    3\n",
      "29    3\n",
      "30    1\n",
      "31    3\n",
      "32    1\n",
      "33    3\n",
      "34    3\n",
      "35    3\n",
      "36    3\n",
      "37    3\n",
      "38    3\n",
      "39    3\n",
      "40    3\n",
      "41    2\n",
      "42    1\n",
      "43    3\n",
      "44    3\n",
      "45    3\n",
      "46    1\n",
      "47    0\n",
      "48    3\n",
      "49    1\n",
      "50    2\n",
      "51    1\n",
      "52    3\n",
      "53    1\n",
      "Name: total, dtype: int64\n"
     ]
    }
   ],
   "source": [
    "floatPCRP = dg['PRCP'].values.astype(float)\n",
    "scaledPCRP = scaler.fit_transform(floatPCRP.reshape(-1,1))\n",
    "floatTMAX = dg['TMAX'].values.astype(float)\n",
    "scaledTMAX = scaler.fit_transform(floatTMAX.reshape(-1,1))\n",
    "floatTMIN = dg['TMIN'].values.astype(float)\n",
    "scaledTMIN = scaler.fit_transform(floatTMIN.reshape(-1,1))\n",
    "floatSM = dg['SM 4in'].values.astype(float)\n",
    "scaledSM = scaler.fit_transform(floatSM.reshape(-1,1))\n",
    "floatHM = dg['Relative Humidity (pct) Mean of Hourly Values'].values.astype(float)\n",
    "scaledHM = scaler.fit_transform(floatHM.reshape(-1,1))\n",
    "floatWS = dg['Wind Speed Average (mph) Mean of Hourly Values'].values.astype(float)\n",
    "scaledWS = scaler.fit_transform(floatWS.reshape(-1,1))\n",
    "#floatTOT = df['total'].values.astype(float)\n",
    "#scaledTOT = scaler2.fit_transform(floatTOT.reshape(-1,1))\n",
    "#scaledTOT = scaler.fit_transform(floatTOT.reshape(-1,1))\n",
    "\n",
    "\n",
    "\n",
    "\n",
    "dg['PRCP'] = pd.DataFrame(scaledPCRP)\n",
    "dg['TMAX'] = pd.DataFrame(scaledTMAX)\n",
    "dg['TMIN'] = pd.DataFrame(scaledTMIN)\n",
    "dg['SM 4in'] = pd.DataFrame(scaledSM)\n",
    "dg['Relative Humidity (pct) Mean of Hourly Values'] = pd.DataFrame(scaledHM)\n",
    "dg['Wind Speed Average (mph) Mean of Hourly Values'] = pd.DataFrame(scaledWS)\n",
    "#df['total'] = pd.DataFrame(scaledTOT)\n",
    "df['total'] = pd.cut(df.total,bins=[0,1000,5000,20000,50000],labels=['Low Risk','Moderate','High Risk','Extreme Risk'])\n",
    "#df.total[24] = \"Low Risk\"\n",
    "df['total'] = enc.fit_transform(df['total'])\n",
    "\n",
    "print(df.total)\n",
    "#print(scaler.inverse_transform(df.total.values.reshape(-1,1)))"
   ]
  },
  {
   "cell_type": "code",
   "execution_count": 426,
   "id": "77b1e445-6e19-4bf2-9143-3e6bb6b75d58",
   "metadata": {},
   "outputs": [
    {
     "name": "stdout",
     "output_type": "stream",
     "text": [
      "(54, 14, 6)\n"
     ]
    }
   ],
   "source": [
    "xData =[]\n",
    "dateAtIndex = df['Date']\n",
    "dateAtIndex = dateAtIndex.tolist()\n",
    "for i in range(len(df)):\n",
    "    \n",
    "    indexOfDate = dFF.tolist().index(dateAtIndex[i])\n",
    "        # xData= np.append(xData, dg[i-6+28:i+1+28].to_numpy())\n",
    "    #print(dg[i-6+28:i+1+28].to_numpy())\n",
    "    xData.append(dg[indexOfDate-13:indexOfDate+1].drop(['DATE'], axis = 1).to_numpy())\n",
    "xData = np.array(xData)\n",
    "#xData = xData.reshape(xData.shape[0], xData.shape[2] * xData.shape[1])\n",
    "#xData = xData.reshape(xData.shape[0], xData.shape[1], 1)\n",
    "print(xData.shape)\n"
   ]
  },
  {
   "cell_type": "code",
   "execution_count": 427,
   "id": "346934a5-fb21-49bd-a6ba-4eb4c9f05433",
   "metadata": {},
   "outputs": [],
   "source": [
    "xData = xData.reshape(xData.shape[0], xData.shape[2] * xData.shape[1])"
   ]
  },
  {
   "cell_type": "code",
   "execution_count": 428,
   "id": "c492299e-9564-4752-a628-4ba264fcce6a",
   "metadata": {},
   "outputs": [
    {
     "name": "stdout",
     "output_type": "stream",
     "text": [
      "[[0.09208401 0.73660714 0.81060606 ... 0.84452297 0.95698925 0.24193548]\n",
      " [0.27140549 0.75446429 0.84848485 ... 0.86925795 0.86021505 0.29032258]\n",
      " [0.         0.75892857 0.87121212 ... 0.74204947 0.82795699 0.28225806]\n",
      " ...\n",
      " [0.         0.80803571 0.91666667 ... 0.87632509 0.86021505 0.10483871]\n",
      " [0.01938611 0.8125     0.93560606 ... 0.82332155 0.87096774 0.10483871]\n",
      " [0.273021   0.83035714 0.88257576 ... 0.74911661 0.8172043  0.16935484]]\n"
     ]
    }
   ],
   "source": [
    "xTrain = xData[:41]\n",
    "\n",
    "ySet = df['total'].values\n",
    "\n",
    "yTrain = ySet[:41]\n",
    "xTest = xData[41:]\n",
    "yTest = ySet[41:]\n",
    "print(xTrain)"
   ]
  },
  {
   "cell_type": "code",
   "execution_count": 429,
   "id": "63743e4d-c453-409e-ac31-b398a2ccbb8a",
   "metadata": {},
   "outputs": [],
   "source": [
    "# model = Sequential()\n",
    "# model.add(LSTM(200, input_shape=[11,6]))\n",
    "# #model.add(Dense(100, input_shape=[42]))\n",
    "# model.add(Dense(42, activation='sigmoid'))\n",
    "# # model.add(Dense(4, activation='relu'))\n",
    "# model.add(Dense(1))\n",
    "# model.compile(loss='mse', optimizer='adam', metrics=['accuracy'])\n",
    "\n",
    "\n",
    "model = Sequential()\n",
    "model.add(Dense(200, input_shape=[xTrain.shape[1],]))\n",
    "#model.add(Dense(100, input_shape=[42]))\n",
    "# model.add(Dense(42, activation='sigmoid'))\n",
    "# model.add(Dense(4, activation='relu'))\n",
    "model.add(Dense(1))\n",
    "model.compile(loss='mse', optimizer='adam', metrics=['accuracy'])"
   ]
  },
  {
   "cell_type": "code",
   "execution_count": 430,
   "id": "d8b66b09-924e-4d94-b400-c3d985d268d7",
   "metadata": {},
   "outputs": [
    {
     "name": "stdout",
     "output_type": "stream",
     "text": [
      "Epoch 1/50\n",
      "7/7 [==============================] - 0s 2ms/step - loss: 2.7946 - accuracy: 0.3415\n",
      "Epoch 2/50\n",
      "7/7 [==============================] - 0s 2ms/step - loss: 1.0918 - accuracy: 0.3902\n",
      "Epoch 3/50\n",
      "7/7 [==============================] - 0s 3ms/step - loss: 0.9845 - accuracy: 0.3902\n",
      "Epoch 4/50\n",
      "7/7 [==============================] - 0s 2ms/step - loss: 1.2661 - accuracy: 0.3902\n",
      "Epoch 5/50\n",
      "7/7 [==============================] - 0s 2ms/step - loss: 0.9877 - accuracy: 0.3902\n",
      "Epoch 6/50\n",
      "7/7 [==============================] - 0s 2ms/step - loss: 1.0081 - accuracy: 0.3902\n",
      "Epoch 7/50\n",
      "7/7 [==============================] - 0s 2ms/step - loss: 0.8563 - accuracy: 0.3902\n",
      "Epoch 8/50\n",
      "7/7 [==============================] - 0s 2ms/step - loss: 0.9810 - accuracy: 0.3902\n",
      "Epoch 9/50\n",
      "7/7 [==============================] - 0s 3ms/step - loss: 0.9790 - accuracy: 0.3902\n",
      "Epoch 10/50\n",
      "7/7 [==============================] - 0s 2ms/step - loss: 0.8077 - accuracy: 0.3902\n",
      "Epoch 11/50\n",
      "7/7 [==============================] - 0s 2ms/step - loss: 0.7865 - accuracy: 0.3902\n",
      "Epoch 12/50\n",
      "7/7 [==============================] - 0s 2ms/step - loss: 0.8044 - accuracy: 0.3902\n",
      "Epoch 13/50\n",
      "7/7 [==============================] - 0s 2ms/step - loss: 0.7810 - accuracy: 0.3902\n",
      "Epoch 14/50\n",
      "7/7 [==============================] - 0s 2ms/step - loss: 0.8445 - accuracy: 0.3902\n",
      "Epoch 15/50\n",
      "7/7 [==============================] - 0s 2ms/step - loss: 0.8226 - accuracy: 0.3902\n",
      "Epoch 16/50\n",
      "7/7 [==============================] - 0s 2ms/step - loss: 0.7824 - accuracy: 0.3902\n",
      "Epoch 17/50\n",
      "7/7 [==============================] - 0s 2ms/step - loss: 0.7441 - accuracy: 0.3902\n",
      "Epoch 18/50\n",
      "7/7 [==============================] - 0s 2ms/step - loss: 0.8546 - accuracy: 0.3902\n",
      "Epoch 19/50\n",
      "7/7 [==============================] - 0s 2ms/step - loss: 0.7831 - accuracy: 0.3902\n",
      "Epoch 20/50\n",
      "7/7 [==============================] - 0s 2ms/step - loss: 0.7705 - accuracy: 0.3902\n",
      "Epoch 21/50\n",
      "7/7 [==============================] - 0s 4ms/step - loss: 0.7616 - accuracy: 0.3902\n",
      "Epoch 22/50\n",
      "7/7 [==============================] - 0s 3ms/step - loss: 0.7734 - accuracy: 0.3902\n",
      "Epoch 23/50\n",
      "7/7 [==============================] - 0s 4ms/step - loss: 0.7288 - accuracy: 0.3902\n",
      "Epoch 24/50\n",
      "7/7 [==============================] - 0s 3ms/step - loss: 0.7093 - accuracy: 0.3902\n",
      "Epoch 25/50\n",
      "7/7 [==============================] - 0s 3ms/step - loss: 0.6356 - accuracy: 0.3902\n",
      "Epoch 26/50\n",
      "7/7 [==============================] - 0s 3ms/step - loss: 0.6257 - accuracy: 0.3902\n",
      "Epoch 27/50\n",
      "7/7 [==============================] - 0s 2ms/step - loss: 0.6479 - accuracy: 0.3902\n",
      "Epoch 28/50\n",
      "7/7 [==============================] - 0s 3ms/step - loss: 0.6488 - accuracy: 0.3902\n",
      "Epoch 29/50\n",
      "7/7 [==============================] - 0s 4ms/step - loss: 0.6041 - accuracy: 0.3902\n",
      "Epoch 30/50\n",
      "7/7 [==============================] - 0s 2ms/step - loss: 0.6393 - accuracy: 0.3902\n",
      "Epoch 31/50\n",
      "7/7 [==============================] - 0s 2ms/step - loss: 0.5994 - accuracy: 0.3902\n",
      "Epoch 32/50\n",
      "7/7 [==============================] - 0s 2ms/step - loss: 0.5928 - accuracy: 0.3902\n",
      "Epoch 33/50\n",
      "7/7 [==============================] - 0s 2ms/step - loss: 0.6097 - accuracy: 0.3902\n",
      "Epoch 34/50\n",
      "7/7 [==============================] - 0s 2ms/step - loss: 0.6255 - accuracy: 0.3902\n",
      "Epoch 35/50\n",
      "7/7 [==============================] - 0s 5ms/step - loss: 0.6415 - accuracy: 0.3902\n",
      "Epoch 36/50\n",
      "7/7 [==============================] - 0s 2ms/step - loss: 0.6026 - accuracy: 0.3902\n",
      "Epoch 37/50\n",
      "7/7 [==============================] - 0s 4ms/step - loss: 0.6654 - accuracy: 0.3902\n",
      "Epoch 38/50\n",
      "7/7 [==============================] - 0s 2ms/step - loss: 0.7286 - accuracy: 0.3902\n",
      "Epoch 39/50\n",
      "7/7 [==============================] - 0s 2ms/step - loss: 0.5370 - accuracy: 0.3902\n",
      "Epoch 40/50\n",
      "7/7 [==============================] - 0s 2ms/step - loss: 0.5735 - accuracy: 0.3902\n",
      "Epoch 41/50\n",
      "7/7 [==============================] - 0s 2ms/step - loss: 0.5346 - accuracy: 0.3902\n",
      "Epoch 42/50\n",
      "7/7 [==============================] - 0s 2ms/step - loss: 0.6109 - accuracy: 0.3902\n",
      "Epoch 43/50\n",
      "7/7 [==============================] - 0s 5ms/step - loss: 0.6203 - accuracy: 0.3902\n",
      "Epoch 44/50\n",
      "7/7 [==============================] - 0s 3ms/step - loss: 0.5575 - accuracy: 0.3902\n",
      "Epoch 45/50\n",
      "7/7 [==============================] - 0s 4ms/step - loss: 0.5578 - accuracy: 0.3902\n",
      "Epoch 46/50\n",
      "7/7 [==============================] - 0s 4ms/step - loss: 0.5695 - accuracy: 0.3902\n",
      "Epoch 47/50\n",
      "7/7 [==============================] - 0s 3ms/step - loss: 0.5519 - accuracy: 0.3902\n",
      "Epoch 48/50\n",
      "7/7 [==============================] - 0s 2ms/step - loss: 0.6570 - accuracy: 0.3902\n",
      "Epoch 49/50\n",
      "7/7 [==============================] - 0s 2ms/step - loss: 0.5870 - accuracy: 0.3902\n",
      "Epoch 50/50\n",
      "7/7 [==============================] - 0s 3ms/step - loss: 0.5373 - accuracy: 0.3902\n"
     ]
    },
    {
     "data": {
      "text/plain": [
       "<keras.callbacks.History at 0x16467b400>"
      ]
     },
     "execution_count": 430,
     "metadata": {},
     "output_type": "execute_result"
    }
   ],
   "source": [
    "model.fit(xTrain, yTrain, epochs=50, batch_size=6)"
   ]
  },
  {
   "cell_type": "code",
   "execution_count": 434,
   "id": "9b33b2e3-feb8-49f8-bda5-8ef8850048ee",
   "metadata": {},
   "outputs": [
    {
     "name": "stdout",
     "output_type": "stream",
     "text": [
      "[2.244345]\n"
     ]
    }
   ],
   "source": [
    "result = model.predict(xData, verbose=0)\n",
    "# print(scaler.inverse_transform(result))\n",
    "# print(scaler.inverse_transform(ySet.reshape(-1,1)))"
   ]
  },
  {
   "cell_type": "code",
   "execution_count": 357,
   "id": "25d1ccc0-3cfb-4d00-8842-f77c882e926e",
   "metadata": {},
   "outputs": [
    {
     "data": {
      "text/plain": [
       "'\\n[[2.2612743 2.212653  2.1985948 2.1955667 2.2299922 2.2387938 2.2102914]\\n [2.3018181 2.2645514 2.2502685 2.2524965 2.2719753 2.2737863 2.2523875]\\n [2.2605417 2.223388  2.2104933 2.216233  2.227001  2.2309234 2.218105 ]\\n [2.2897768 2.2478154 2.235794  2.2450972 2.2553353 2.2559464 2.2453423]\\n [2.4125617 2.3392959 2.335546  2.3550682 2.3818533 2.3791378 2.3416345]\\n [2.243344  2.1933699 2.1822639 2.210369  2.2138507 2.2196887 2.1969297]\\n [2.1836653 2.1375332 2.1240757 2.1487308 2.1522355 2.1593883 2.1413324]\\n [2.1266723 2.1097176 2.0980394 2.0691657 2.0934727 2.1152477 2.1002758]\\n [2.5192056 2.4647944 2.470552  2.4523406 2.5037434 2.493469  2.4554503]\\n [2.540644  2.4768336 2.48342   2.4797966 2.530187  2.5239947 2.4713223]\\n [2.513778  2.4518409 2.4566379 2.4641256 2.5055153 2.5052884 2.4492414]\\n [1.6019405 1.6274765 1.6456753 1.6182985 1.6393309 1.6689913 1.6367085]\\n [1.6398822 1.6211977 1.6328677 1.6466503 1.6533837 1.6655486 1.6470315]]\\n '"
      ]
     },
     "execution_count": 357,
     "metadata": {},
     "output_type": "execute_result"
    }
   ],
   "source": [
    "'''\n",
    "[[2.2612743 2.212653  2.1985948 2.1955667 2.2299922 2.2387938 2.2102914]\n",
    " [2.3018181 2.2645514 2.2502685 2.2524965 2.2719753 2.2737863 2.2523875]\n",
    " [2.2605417 2.223388  2.2104933 2.216233  2.227001  2.2309234 2.218105 ]\n",
    " [2.2897768 2.2478154 2.235794  2.2450972 2.2553353 2.2559464 2.2453423]\n",
    " [2.4125617 2.3392959 2.335546  2.3550682 2.3818533 2.3791378 2.3416345]\n",
    " [2.243344  2.1933699 2.1822639 2.210369  2.2138507 2.2196887 2.1969297]\n",
    " [2.1836653 2.1375332 2.1240757 2.1487308 2.1522355 2.1593883 2.1413324]\n",
    " [2.1266723 2.1097176 2.0980394 2.0691657 2.0934727 2.1152477 2.1002758]\n",
    " [2.5192056 2.4647944 2.470552  2.4523406 2.5037434 2.493469  2.4554503]\n",
    " [2.540644  2.4768336 2.48342   2.4797966 2.530187  2.5239947 2.4713223]\n",
    " [2.513778  2.4518409 2.4566379 2.4641256 2.5055153 2.5052884 2.4492414]\n",
    " [1.6019405 1.6274765 1.6456753 1.6182985 1.6393309 1.6689913 1.6367085]\n",
    " [1.6398822 1.6211977 1.6328677 1.6466503 1.6533837 1.6655486 1.6470315]]\n",
    " '''"
   ]
  },
  {
   "cell_type": "code",
   "execution_count": null,
   "id": "0ebadcd7-3a1e-434e-8d20-6f23aa2177f3",
   "metadata": {},
   "outputs": [],
   "source": []
  }
 ],
 "metadata": {
  "kernelspec": {
   "display_name": "Python 3 (ipykernel)",
   "language": "python",
   "name": "python3"
  },
  "language_info": {
   "codemirror_mode": {
    "name": "ipython",
    "version": 3
   },
   "file_extension": ".py",
   "mimetype": "text/x-python",
   "name": "python",
   "nbconvert_exporter": "python",
   "pygments_lexer": "ipython3",
   "version": "3.9.10"
  }
 },
 "nbformat": 4,
 "nbformat_minor": 5
}
